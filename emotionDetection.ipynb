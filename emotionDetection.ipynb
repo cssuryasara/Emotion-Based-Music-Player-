{
 "cells": [
  {
   "cell_type": "code",
   "execution_count": 1,
   "metadata": {},
   "outputs": [],
   "source": [
    "from __future__ import print_function\n",
    "import keras\n",
    "from keras.preprocessing.image import ImageDataGenerator\n",
    "from keras.models import Sequential\n",
    "from keras.layers import Dense,Dropout,Activation,Flatten,BatchNormalization\n",
    "from keras.layers import Conv2D,MaxPooling2D\n",
    "import os"
   ]
  },
  {
   "cell_type": "code",
   "execution_count": 2,
   "metadata": {},
   "outputs": [],
   "source": [
    "num_classes = 5\n",
    "img_rows,img_cols = 48,48\n",
    "batch_size = 32"
   ]
  },
  {
   "cell_type": "code",
   "execution_count": 3,
   "metadata": {},
   "outputs": [],
   "source": [
    "train_data_dir = r'C:\\Users\\ASUS\\Desktop\\face-expression-recognition-dataset\\train'\n",
    "validation_data_dir = r'C:\\Users\\ASUS\\Desktop\\face-expression-recognition-dataset\\validation'"
   ]
  },
  {
   "cell_type": "code",
   "execution_count": 4,
   "metadata": {},
   "outputs": [],
   "source": [
    "train_datagen = ImageDataGenerator(rescale=1./255,rotation_range=30,shear_range=0.3,zoom_range=0.3,width_shift_range=0.4,height_shift_range=0.4,horizontal_flip=True,fill_mode='nearest')"
   ]
  },
  {
   "cell_type": "code",
   "execution_count": 5,
   "metadata": {},
   "outputs": [],
   "source": [
    "validation_datagen = ImageDataGenerator(rescale=1./255)"
   ]
  },
  {
   "cell_type": "code",
   "execution_count": 6,
   "metadata": {},
   "outputs": [
    {
     "name": "stdout",
     "output_type": "stream",
     "text": [
      "Found 24282 images belonging to 5 classes.\n"
     ]
    }
   ],
   "source": [
    "train_generator = train_datagen.flow_from_directory(\n",
    "                    train_data_dir,\n",
    "                    color_mode='grayscale',\n",
    "                    target_size=(img_rows,img_cols),\n",
    "                    batch_size=batch_size,\n",
    "                    class_mode='categorical',\n",
    "                    shuffle=True)"
   ]
  },
  {
   "cell_type": "code",
   "execution_count": 7,
   "metadata": {},
   "outputs": [
    {
     "name": "stdout",
     "output_type": "stream",
     "text": [
      "Found 5937 images belonging to 5 classes.\n"
     ]
    }
   ],
   "source": [
    "validation_generator = validation_datagen.flow_from_directory(\n",
    "                            validation_data_dir,\n",
    "                            color_mode='grayscale',\n",
    "                            target_size=(img_rows,img_cols),\n",
    "                            batch_size=batch_size,\n",
    "                            class_mode='categorical',\n",
    "                            shuffle=True)"
   ]
  },
  {
   "cell_type": "code",
   "execution_count": 8,
   "metadata": {},
   "outputs": [],
   "source": [
    "\n",
    "model = Sequential()\n",
    "\n",
    "# Block-1\n",
    "\n",
    "model.add(Conv2D(32,(3,3),padding='same',kernel_initializer='he_normal',input_shape=(img_rows,img_cols,1)))\n",
    "model.add(Activation('elu'))\n",
    "model.add(BatchNormalization())\n",
    "model.add(Conv2D(32,(3,3),padding='same',kernel_initializer='he_normal',input_shape=(img_rows,img_cols,1)))\n",
    "model.add(Activation('elu'))\n",
    "model.add(BatchNormalization())\n",
    "model.add(MaxPooling2D(pool_size=(2,2)))\n",
    "model.add(Dropout(0.2))\n",
    "\n",
    "# Block-2 \n",
    "\n",
    "model.add(Conv2D(64,(3,3),padding='same',kernel_initializer='he_normal'))\n",
    "model.add(Activation('elu'))\n",
    "model.add(BatchNormalization())\n",
    "model.add(Conv2D(64,(3,3),padding='same',kernel_initializer='he_normal'))\n",
    "model.add(Activation('elu'))\n",
    "model.add(BatchNormalization())\n",
    "model.add(MaxPooling2D(pool_size=(2,2)))\n",
    "model.add(Dropout(0.2))\n",
    "\n",
    "# Block-3\n",
    "\n",
    "model.add(Conv2D(128,(3,3),padding='same',kernel_initializer='he_normal'))\n",
    "model.add(Activation('elu'))\n",
    "model.add(BatchNormalization())\n",
    "model.add(Conv2D(128,(3,3),padding='same',kernel_initializer='he_normal'))\n",
    "model.add(Activation('elu'))\n",
    "model.add(BatchNormalization())\n",
    "model.add(MaxPooling2D(pool_size=(2,2)))\n",
    "model.add(Dropout(0.2))\n",
    "\n",
    "# Block-4 \n",
    "\n",
    "model.add(Conv2D(256,(3,3),padding='same',kernel_initializer='he_normal'))\n",
    "model.add(Activation('elu'))\n",
    "model.add(BatchNormalization())\n",
    "model.add(Conv2D(256,(3,3),padding='same',kernel_initializer='he_normal'))\n",
    "model.add(Activation('elu'))\n",
    "model.add(BatchNormalization())\n",
    "model.add(MaxPooling2D(pool_size=(2,2)))\n",
    "model.add(Dropout(0.2))\n",
    "\n",
    "# Block-5\n",
    "\n",
    "model.add(Flatten())\n",
    "model.add(Dense(64,kernel_initializer='he_normal'))\n",
    "model.add(Activation('elu'))\n",
    "model.add(BatchNormalization())\n",
    "model.add(Dropout(0.5))\n",
    "\n",
    "# Block-6\n",
    "\n",
    "model.add(Dense(64,kernel_initializer='he_normal'))\n",
    "model.add(Activation('elu'))\n",
    "model.add(BatchNormalization())\n",
    "model.add(Dropout(0.5))\n",
    "\n",
    "# Block-7\n",
    "\n",
    "model.add(Dense(num_classes,kernel_initializer='he_normal'))\n",
    "model.add(Activation('softmax'))"
   ]
  },
  {
   "cell_type": "code",
   "execution_count": 9,
   "metadata": {},
   "outputs": [
    {
     "name": "stdout",
     "output_type": "stream",
     "text": [
      "Model: \"sequential\"\n",
      "_________________________________________________________________\n",
      "Layer (type)                 Output Shape              Param #   \n",
      "=================================================================\n",
      "conv2d (Conv2D)              (None, 48, 48, 32)        320       \n",
      "_________________________________________________________________\n",
      "activation (Activation)      (None, 48, 48, 32)        0         \n",
      "_________________________________________________________________\n",
      "batch_normalization (BatchNo (None, 48, 48, 32)        128       \n",
      "_________________________________________________________________\n",
      "conv2d_1 (Conv2D)            (None, 48, 48, 32)        9248      \n",
      "_________________________________________________________________\n",
      "activation_1 (Activation)    (None, 48, 48, 32)        0         \n",
      "_________________________________________________________________\n",
      "batch_normalization_1 (Batch (None, 48, 48, 32)        128       \n",
      "_________________________________________________________________\n",
      "max_pooling2d (MaxPooling2D) (None, 24, 24, 32)        0         \n",
      "_________________________________________________________________\n",
      "dropout (Dropout)            (None, 24, 24, 32)        0         \n",
      "_________________________________________________________________\n",
      "conv2d_2 (Conv2D)            (None, 24, 24, 64)        18496     \n",
      "_________________________________________________________________\n",
      "activation_2 (Activation)    (None, 24, 24, 64)        0         \n",
      "_________________________________________________________________\n",
      "batch_normalization_2 (Batch (None, 24, 24, 64)        256       \n",
      "_________________________________________________________________\n",
      "conv2d_3 (Conv2D)            (None, 24, 24, 64)        36928     \n",
      "_________________________________________________________________\n",
      "activation_3 (Activation)    (None, 24, 24, 64)        0         \n",
      "_________________________________________________________________\n",
      "batch_normalization_3 (Batch (None, 24, 24, 64)        256       \n",
      "_________________________________________________________________\n",
      "max_pooling2d_1 (MaxPooling2 (None, 12, 12, 64)        0         \n",
      "_________________________________________________________________\n",
      "dropout_1 (Dropout)          (None, 12, 12, 64)        0         \n",
      "_________________________________________________________________\n",
      "conv2d_4 (Conv2D)            (None, 12, 12, 128)       73856     \n",
      "_________________________________________________________________\n",
      "activation_4 (Activation)    (None, 12, 12, 128)       0         \n",
      "_________________________________________________________________\n",
      "batch_normalization_4 (Batch (None, 12, 12, 128)       512       \n",
      "_________________________________________________________________\n",
      "conv2d_5 (Conv2D)            (None, 12, 12, 128)       147584    \n",
      "_________________________________________________________________\n",
      "activation_5 (Activation)    (None, 12, 12, 128)       0         \n",
      "_________________________________________________________________\n",
      "batch_normalization_5 (Batch (None, 12, 12, 128)       512       \n",
      "_________________________________________________________________\n",
      "max_pooling2d_2 (MaxPooling2 (None, 6, 6, 128)         0         \n",
      "_________________________________________________________________\n",
      "dropout_2 (Dropout)          (None, 6, 6, 128)         0         \n",
      "_________________________________________________________________\n",
      "conv2d_6 (Conv2D)            (None, 6, 6, 256)         295168    \n",
      "_________________________________________________________________\n",
      "activation_6 (Activation)    (None, 6, 6, 256)         0         \n",
      "_________________________________________________________________\n",
      "batch_normalization_6 (Batch (None, 6, 6, 256)         1024      \n",
      "_________________________________________________________________\n",
      "conv2d_7 (Conv2D)            (None, 6, 6, 256)         590080    \n",
      "_________________________________________________________________\n",
      "activation_7 (Activation)    (None, 6, 6, 256)         0         \n",
      "_________________________________________________________________\n",
      "batch_normalization_7 (Batch (None, 6, 6, 256)         1024      \n",
      "_________________________________________________________________\n",
      "max_pooling2d_3 (MaxPooling2 (None, 3, 3, 256)         0         \n",
      "_________________________________________________________________\n",
      "dropout_3 (Dropout)          (None, 3, 3, 256)         0         \n",
      "_________________________________________________________________\n",
      "flatten (Flatten)            (None, 2304)              0         \n",
      "_________________________________________________________________\n",
      "dense (Dense)                (None, 64)                147520    \n",
      "_________________________________________________________________\n",
      "activation_8 (Activation)    (None, 64)                0         \n",
      "_________________________________________________________________\n",
      "batch_normalization_8 (Batch (None, 64)                256       \n",
      "_________________________________________________________________\n",
      "dropout_4 (Dropout)          (None, 64)                0         \n",
      "_________________________________________________________________\n",
      "dense_1 (Dense)              (None, 64)                4160      \n",
      "_________________________________________________________________\n",
      "activation_9 (Activation)    (None, 64)                0         \n",
      "_________________________________________________________________\n",
      "batch_normalization_9 (Batch (None, 64)                256       \n",
      "_________________________________________________________________\n",
      "dropout_5 (Dropout)          (None, 64)                0         \n",
      "_________________________________________________________________\n",
      "dense_2 (Dense)              (None, 5)                 325       \n",
      "_________________________________________________________________\n",
      "activation_10 (Activation)   (None, 5)                 0         \n",
      "=================================================================\n",
      "Total params: 1,328,037\n",
      "Trainable params: 1,325,861\n",
      "Non-trainable params: 2,176\n",
      "_________________________________________________________________\n",
      "None\n"
     ]
    }
   ],
   "source": [
    "print(model.summary())"
   ]
  },
  {
   "cell_type": "code",
   "execution_count": 10,
   "metadata": {},
   "outputs": [],
   "source": [
    "\n",
    "from keras.optimizers import RMSprop,SGD,Adam\n",
    "from keras.callbacks import ModelCheckpoint, EarlyStopping, ReduceLROnPlateau"
   ]
  },
  {
   "cell_type": "code",
   "execution_count": 11,
   "metadata": {},
   "outputs": [],
   "source": [
    "\n",
    "checkpoint = ModelCheckpoint('Emotion_little_vgg.h5',\n",
    "                             monitor='val_loss',\n",
    "                             mode='min',\n",
    "                             save_best_only=True,\n",
    "                             verbose=1)\n",
    "\n",
    "earlystop = EarlyStopping(monitor='val_loss',\n",
    "                          min_delta=0,\n",
    "                          patience=3,\n",
    "                          verbose=1,\n",
    "                          restore_best_weights=True\n",
    "                          )\n",
    "\n",
    "reduce_lr = ReduceLROnPlateau(monitor='val_loss',\n",
    "                              factor=0.2,\n",
    "                              patience=3,\n",
    "                              verbose=1,\n",
    "                              min_delta=0.0001)"
   ]
  },
  {
   "cell_type": "code",
   "execution_count": 12,
   "metadata": {},
   "outputs": [],
   "source": [
    "callbacks = [earlystop,checkpoint,reduce_lr]"
   ]
  },
  {
   "cell_type": "code",
   "execution_count": 13,
   "metadata": {},
   "outputs": [],
   "source": [
    "model.compile(loss='categorical_crossentropy',optimizer = Adam(lr=0.001),metrics=['accuracy'])"
   ]
  },
  {
   "cell_type": "code",
   "execution_count": 14,
   "metadata": {},
   "outputs": [],
   "source": [
    "nb_train_samples = 24176\n",
    "nb_validation_samples = 3006\n",
    "epochs=25"
   ]
  },
  {
   "cell_type": "code",
   "execution_count": 15,
   "metadata": {},
   "outputs": [
    {
     "name": "stdout",
     "output_type": "stream",
     "text": [
      "WARNING:tensorflow:From <ipython-input-15-d7d1b8a23df7>:1: Model.fit_generator (from tensorflow.python.keras.engine.training) is deprecated and will be removed in a future version.\n",
      "Instructions for updating:\n",
      "Please use Model.fit, which supports generators.\n",
      "Epoch 1/25\n",
      "755/755 [==============================] - ETA: 0s - loss: 1.8665 - accuracy: 0.2342\n",
      "Epoch 00001: val_loss improved from inf to 1.53690, saving model to Emotion_little_vgg.h5\n",
      "755/755 [==============================] - 437s 579ms/step - loss: 1.8665 - accuracy: 0.2342 - val_loss: 1.5369 - val_accuracy: 0.3132\n",
      "Epoch 2/25\n",
      "755/755 [==============================] - ETA: 0s - loss: 1.5753 - accuracy: 0.2820\n",
      "Epoch 00002: val_loss improved from 1.53690 to 1.52429, saving model to Emotion_little_vgg.h5\n",
      "755/755 [==============================] - 488s 646ms/step - loss: 1.5753 - accuracy: 0.2820 - val_loss: 1.5243 - val_accuracy: 0.3202\n",
      "Epoch 3/25\n",
      "755/755 [==============================] - ETA: 0s - loss: 1.5483 - accuracy: 0.3034\n",
      "Epoch 00003: val_loss improved from 1.52429 to 1.52297, saving model to Emotion_little_vgg.h5\n",
      "755/755 [==============================] - 508s 673ms/step - loss: 1.5483 - accuracy: 0.3034 - val_loss: 1.5230 - val_accuracy: 0.3162\n",
      "Epoch 4/25\n",
      "755/755 [==============================] - ETA: 0s - loss: 1.5166 - accuracy: 0.3216\n",
      "Epoch 00004: val_loss improved from 1.52297 to 1.50463, saving model to Emotion_little_vgg.h5\n",
      "755/755 [==============================] - 480s 636ms/step - loss: 1.5166 - accuracy: 0.3216 - val_loss: 1.5046 - val_accuracy: 0.3827\n",
      "Epoch 5/25\n",
      "755/755 [==============================] - ETA: 0s - loss: 1.4466 - accuracy: 0.3659\n",
      "Epoch 00005: val_loss improved from 1.50463 to 1.39886, saving model to Emotion_little_vgg.h5\n",
      "755/755 [==============================] - 471s 624ms/step - loss: 1.4466 - accuracy: 0.3659 - val_loss: 1.3989 - val_accuracy: 0.4405\n",
      "Epoch 6/25\n",
      "755/755 [==============================] - ETA: 0s - loss: 1.3548 - accuracy: 0.4265\n",
      "Epoch 00006: val_loss improved from 1.39886 to 1.09640, saving model to Emotion_little_vgg.h5\n",
      "755/755 [==============================] - 485s 642ms/step - loss: 1.3548 - accuracy: 0.4265 - val_loss: 1.0964 - val_accuracy: 0.5524\n",
      "Epoch 7/25\n",
      "755/755 [==============================] - ETA: 0s - loss: 1.2813 - accuracy: 0.4697\n",
      "Epoch 00007: val_loss improved from 1.09640 to 1.02067, saving model to Emotion_little_vgg.h5\n",
      "755/755 [==============================] - 496s 657ms/step - loss: 1.2813 - accuracy: 0.4697 - val_loss: 1.0207 - val_accuracy: 0.5817\n",
      "Epoch 8/25\n",
      "755/755 [==============================] - ETA: 0s - loss: 1.2290 - accuracy: 0.4944\n",
      "Epoch 00008: val_loss improved from 1.02067 to 1.01471, saving model to Emotion_little_vgg.h5\n",
      "755/755 [==============================] - 477s 632ms/step - loss: 1.2290 - accuracy: 0.4944 - val_loss: 1.0147 - val_accuracy: 0.6005\n",
      "Epoch 9/25\n",
      "755/755 [==============================] - ETA: 0s - loss: 1.1946 - accuracy: 0.5100\n",
      "Epoch 00009: val_loss improved from 1.01471 to 0.96007, saving model to Emotion_little_vgg.h5\n",
      "755/755 [==============================] - 469s 621ms/step - loss: 1.1946 - accuracy: 0.5100 - val_loss: 0.9601 - val_accuracy: 0.6136\n",
      "Epoch 10/25\n",
      "755/755 [==============================] - ETA: 0s - loss: 1.1633 - accuracy: 0.5320\n",
      "Epoch 00010: val_loss improved from 0.96007 to 0.92254, saving model to Emotion_little_vgg.h5\n",
      "755/755 [==============================] - 466s 617ms/step - loss: 1.1633 - accuracy: 0.5320 - val_loss: 0.9225 - val_accuracy: 0.6374\n",
      "Epoch 11/25\n",
      "755/755 [==============================] - ETA: 0s - loss: 1.1304 - accuracy: 0.5469\n",
      "Epoch 00011: val_loss did not improve from 0.92254\n",
      "755/755 [==============================] - 472s 625ms/step - loss: 1.1304 - accuracy: 0.5469 - val_loss: 0.9733 - val_accuracy: 0.6176\n",
      "Epoch 12/25\n",
      "755/755 [==============================] - ETA: 0s - loss: 1.1127 - accuracy: 0.5581\n",
      "Epoch 00012: val_loss improved from 0.92254 to 0.89425, saving model to Emotion_little_vgg.h5\n",
      "755/755 [==============================] - 485s 643ms/step - loss: 1.1127 - accuracy: 0.5581 - val_loss: 0.8942 - val_accuracy: 0.6472\n",
      "Epoch 13/25\n",
      "755/755 [==============================] - ETA: 0s - loss: 1.0994 - accuracy: 0.5581\n",
      "Epoch 00013: val_loss improved from 0.89425 to 0.85257, saving model to Emotion_little_vgg.h5\n",
      "755/755 [==============================] - 487s 645ms/step - loss: 1.0994 - accuracy: 0.5581 - val_loss: 0.8526 - val_accuracy: 0.6606\n",
      "Epoch 14/25\n",
      "755/755 [==============================] - ETA: 0s - loss: 1.0887 - accuracy: 0.5677\n",
      "Epoch 00014: val_loss improved from 0.85257 to 0.85187, saving model to Emotion_little_vgg.h5\n",
      "755/755 [==============================] - 470s 622ms/step - loss: 1.0887 - accuracy: 0.5677 - val_loss: 0.8519 - val_accuracy: 0.6680\n",
      "Epoch 15/25\n",
      "755/755 [==============================] - ETA: 0s - loss: 1.0731 - accuracy: 0.5790\n",
      "Epoch 00015: val_loss did not improve from 0.85187\n",
      "755/755 [==============================] - 480s 635ms/step - loss: 1.0731 - accuracy: 0.5790 - val_loss: 0.8849 - val_accuracy: 0.6388\n",
      "Epoch 16/25\n",
      "755/755 [==============================] - ETA: 0s - loss: 1.0505 - accuracy: 0.5858\n",
      "Epoch 00016: val_loss improved from 0.85187 to 0.81879, saving model to Emotion_little_vgg.h5\n",
      "755/755 [==============================] - 454s 602ms/step - loss: 1.0505 - accuracy: 0.5858 - val_loss: 0.8188 - val_accuracy: 0.6781\n",
      "Epoch 17/25\n",
      "755/755 [==============================] - ETA: 0s - loss: 1.0419 - accuracy: 0.5933\n",
      "Epoch 00017: val_loss did not improve from 0.81879\n",
      "755/755 [==============================] - 454s 601ms/step - loss: 1.0419 - accuracy: 0.5933 - val_loss: 0.8194 - val_accuracy: 0.6727\n",
      "Epoch 18/25\n",
      "755/755 [==============================] - ETA: 0s - loss: 1.0361 - accuracy: 0.5946\n",
      "Epoch 00018: val_loss did not improve from 0.81879\n",
      "755/755 [==============================] - 455s 603ms/step - loss: 1.0361 - accuracy: 0.5946 - val_loss: 0.8219 - val_accuracy: 0.6868\n",
      "Epoch 19/25\n",
      "755/755 [==============================] - ETA: 0s - loss: 1.0272 - accuracy: 0.5991\n",
      "Epoch 00019: val_loss improved from 0.81879 to 0.79985, saving model to Emotion_little_vgg.h5\n",
      "755/755 [==============================] - 458s 606ms/step - loss: 1.0272 - accuracy: 0.5991 - val_loss: 0.7999 - val_accuracy: 0.6925\n",
      "Epoch 20/25\n",
      "755/755 [==============================] - ETA: 0s - loss: 1.0147 - accuracy: 0.6052\n",
      "Epoch 00020: val_loss did not improve from 0.79985\n",
      "755/755 [==============================] - 452s 599ms/step - loss: 1.0147 - accuracy: 0.6052 - val_loss: 0.8033 - val_accuracy: 0.6892\n",
      "Epoch 21/25\n",
      "755/755 [==============================] - ETA: 0s - loss: 1.0114 - accuracy: 0.6069\n",
      "Epoch 00021: val_loss improved from 0.79985 to 0.77264, saving model to Emotion_little_vgg.h5\n",
      "755/755 [==============================] - 455s 602ms/step - loss: 1.0114 - accuracy: 0.6069 - val_loss: 0.7726 - val_accuracy: 0.7056\n",
      "Epoch 22/25\n",
      "755/755 [==============================] - ETA: 0s - loss: 1.0039 - accuracy: 0.6119\n",
      "Epoch 00022: val_loss improved from 0.77264 to 0.75736, saving model to Emotion_little_vgg.h5\n",
      "755/755 [==============================] - 441s 584ms/step - loss: 1.0039 - accuracy: 0.6119 - val_loss: 0.7574 - val_accuracy: 0.7103\n",
      "Epoch 23/25\n",
      "755/755 [==============================] - ETA: 0s - loss: 0.9970 - accuracy: 0.6167\n",
      "Epoch 00023: val_loss did not improve from 0.75736\n",
      "755/755 [==============================] - 441s 584ms/step - loss: 0.9970 - accuracy: 0.6167 - val_loss: 0.7718 - val_accuracy: 0.7016\n",
      "Epoch 24/25\n",
      "755/755 [==============================] - ETA: 0s - loss: 0.9920 - accuracy: 0.6163\n",
      "Epoch 00024: val_loss did not improve from 0.75736\n",
      "755/755 [==============================] - 438s 581ms/step - loss: 0.9920 - accuracy: 0.6163 - val_loss: 0.7821 - val_accuracy: 0.6966\n",
      "Epoch 25/25\n",
      "755/755 [==============================] - ETA: 0s - loss: 0.9816 - accuracy: 0.6230Restoring model weights from the end of the best epoch.\n",
      "\n",
      "Epoch 00025: val_loss did not improve from 0.75736\n",
      "\n",
      "Epoch 00025: ReduceLROnPlateau reducing learning rate to 0.00020000000949949026.\n",
      "755/755 [==============================] - 439s 581ms/step - loss: 0.9816 - accuracy: 0.6230 - val_loss: 0.7936 - val_accuracy: 0.6983\n",
      "Epoch 00025: early stopping\n"
     ]
    }
   ],
   "source": [
    "history=model.fit_generator(\n",
    "                train_generator,\n",
    "                steps_per_epoch=nb_train_samples//batch_size,\n",
    "                epochs=epochs,\n",
    "                callbacks=callbacks,\n",
    "                validation_data=validation_generator,\n",
    "                validation_steps=nb_validation_samples//batch_size)"
   ]
  },
  {
   "cell_type": "code",
   "execution_count": 17,
   "metadata": {},
   "outputs": [
    {
     "data": {
      "image/png": "[encoded data removed]",
      "text/plain": [
       "<Figure size 432x288 with 1 Axes>"
      ]
     },
     "metadata": {
      "needs_background": "light"
     },
     "output_type": "display_data"
    },
    {
     "data": {
      "image/png": "[encoded data removed]",
      "text/plain": [
       "<Figure size 432x288 with 1 Axes>"
      ]
     },
     "metadata": {
      "needs_background": "light"
     },
     "output_type": "display_data"
    }
   ],
   "source": [
    "from  matplotlib import pyplot as plt\n",
    "\n",
    "accuracy = history.history['accuracy']\n",
    "val_accuracy = history.history['val_accuracy']\n",
    "loss = history.history['loss']\n",
    "val_loss = history.history['val_loss']\n",
    "epochs = range(len(accuracy))\n",
    "plt.plot(epochs, accuracy,'--', label='Training accuracy')\n",
    "plt.plot(epochs, val_accuracy, 'b', label='Validation accuracy')\n",
    "plt.title('Training and validation accuracy')\n",
    "plt.legend()\n",
    "plt.figure()\n",
    "plt.plot(epochs, loss, '--', label='Training loss')\n",
    "plt.plot(epochs, val_loss, 'b', label='Validation loss')\n",
    "plt.title('Training and validation loss')\n",
    "plt.legend()\n",
    "plt.show()"
   ]
  },
  {
   "cell_type": "code",
   "execution_count": null,
   "metadata": {},
   "outputs": [],
   "source": [
    "from keras.models import load_model\n",
    "from time import sleep\n",
    "from keras.preprocessing.image import img_to_array\n",
    "from keras.preprocessing import image\n",
    "import cv2\n",
    "import numpy as np\n",
    "face_classifier = cv2.CascadeClassifier(r'C:\\Users\\ASUS\\Desktop\\EmotionBasedMusicPlayer\\spotifyclone\\haarcascade_frontalface_default.xml')\n",
    "classifier =load_model(r'C:\\Users\\ASUS\\Desktop\\EmotionBasedMusicPlayer\\spotifyclone\\saved_model.h5')\n",
    "class_labels = ['Angry','Happy','Neutral','Sad','Surprise']\n",
    "cap = cv2.VideoCapture(1)\n"
   ]
  },
  {
   "cell_type": "code",
   "execution_count": null,
   "metadata": {},
   "outputs": [],
   "source": [
    "while True:\n",
    "    # Grab a single frame of video\n",
    "    ret, frame = cap.read()\n",
    "    labels = []\n",
    "    gray = cv2.cvtColor(frame,cv2.COLOR_BGR2GRAY)\n",
    "    faces = face_classifier.detectMultiScale(gray,1.3,5)\n",
    "#     print(faces)\n",
    "    for (x,y,w,h) in faces:\n",
    "        cv2.rectangle(frame,(x,y),(x+w,y+h),(255,0,0),2)\n",
    "        roi_gray = gray[y:y+h,x:x+w]\n",
    "        roi_gray = cv2.resize(roi_gray,(48,48),interpolation=cv2.INTER_AREA)\n",
    "    # rect,face,image = face_detector(frame)\n",
    "\n",
    "\n",
    "        if np.sum([roi_gray])!=0:\n",
    "            roi = roi_gray.astype('float')/255.0\n",
    "            roi = img_to_array(roi)\n",
    "            roi = np.expand_dims(roi,axis=0)\n",
    "\n",
    "        # make a prediction on the ROI, then lookup the class\n",
    "\n",
    "            preds = classifier.predict(roi)[0]\n",
    "            label=class_labels[preds.argmax()]\n",
    "            label_position = (x,y)\n",
    "            cv2.putText(frame,label,label_position,cv2.FONT_HERSHEY_SIMPLEX,2,(0,255,0),3)\n",
    "        else:\n",
    "            cv2.putText(frame,'No Face Found',(20,60),cv2.FONT_HERSHEY_SIMPLEX,2,(0,255,0),3)\n",
    "    cv2.imshow('Emotion Detector',frame)\n",
    "    if cv2.waitKey(1) & 0xFF == ord('q'):\n",
    "        break\n",
    "\n"
   ]
  },
  {
   "cell_type": "code",
   "execution_count": null,
   "metadata": {},
   "outputs": [],
   "source": [
    "cap.release()\n",
    "cv2.destroyAllWindows()"
   ]
  }
 ],
 "metadata": {
  "kernelspec": {
   "display_name": "Python 3",
   "language": "python",
   "name": "python3"
  },
  "language_info": {
   "codemirror_mode": {
    "name": "ipython",
    "version": 3
   },
   "file_extension": ".py",
   "mimetype": "text/x-python",
   "name": "python",
   "nbconvert_exporter": "python",
   "pygments_lexer": "ipython3",
   "version": "3.8.5"
  }
 },
 "nbformat": 4,
 "nbformat_minor": 4
}
